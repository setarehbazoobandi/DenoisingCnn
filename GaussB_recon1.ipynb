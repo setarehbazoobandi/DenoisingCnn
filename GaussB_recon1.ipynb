{
  "nbformat": 4,
  "nbformat_minor": 0,
  "metadata": {
    "colab": {
      "provenance": []
    },
    "kernelspec": {
      "display_name": "Python 3",
      "name": "python3"
    },
    "language_info": {
      "name": "python"
    },
    "accelerator": "GPU"
  },
  "cells": [
    {
      "cell_type": "code",
      "source": [
        "from google.colab import drive\n",
        "drive.mount('/content/drive')\n",
        "import sys\n",
        "sys.path.insert(0,'/content/drive/My Drive/data/')"
      ],
      "metadata": {
        "colab": {
          "base_uri": "https://localhost:8080/"
        },
        "id": "wjM_fQ0p37qJ",
        "outputId": "444361f1-5090-4401-a59b-ee3d9f288966"
      },
      "execution_count": 1,
      "outputs": [
        {
          "output_type": "stream",
          "name": "stdout",
          "text": [
            "Mounted at /content/drive\n"
          ]
        }
      ]
    },
    {
      "cell_type": "code",
      "source": [
        "import torch\n",
        "import torch.nn as nn\n",
        "import torch.nn.functional as F\n",
        "class Anet(nn.Module):\n",
        "    def __init__(self, chns=1):\n",
        "        super(Anet, self).__init__()\n",
        "        self.chns = chns\n",
        "        self.conv1 = nn.Conv2d(1, self.chns, kernel_size=(33,1), padding=(16,0), padding_mode='replicate', bias=False, groups=1) \n",
        "       \n",
        "        self.conv2 = nn.Conv2d(self.chns, 1, kernel_size=(1,33), padding=(0,16), padding_mode='replicate', bias=False, groups=1) \n",
        "\n",
        "    def forward(self, x):\n",
        "        x1 =self.conv1(x)\n",
        "        x2 = F.relu(self.conv2(x1))\n",
        "        #x2 = self.conv2(x1)\n",
        "\n",
        "        U = model.conv1.weight.detach().clone() # first conv kernel\n",
        "        V = model.conv2.weight.detach().clone() # second conv kernel\n",
        "        return x2,x1,U,V\n",
        "device = 'cuda:0' if torch.cuda.is_available() else 'cpu'\n",
        "device\n",
        "model = Anet().to(device)\n",
        "print(model)"
      ],
      "metadata": {
        "id": "h0nhPTWj69Yl",
        "colab": {
          "base_uri": "https://localhost:8080/"
        },
        "outputId": "fc95c8ef-a93c-4bc7-82fc-55d2797b8313"
      },
      "execution_count": 2,
      "outputs": [
        {
          "output_type": "stream",
          "name": "stdout",
          "text": [
            "Anet(\n",
            "  (conv1): Conv2d(1, 1, kernel_size=(33, 1), stride=(1, 1), padding=(16, 0), bias=False, padding_mode=replicate)\n",
            "  (conv2): Conv2d(1, 1, kernel_size=(1, 33), stride=(1, 1), padding=(0, 16), bias=False, padding_mode=replicate)\n",
            ")\n"
          ]
        }
      ]
    },
    {
      "cell_type": "code",
      "source": [
        "import torch\n",
        "import matplotlib\n",
        "import matplotlib.pyplot as plt\n",
        "import time\n",
        "import h5py\n",
        "import torch.optim as optim\n",
        "import torch.nn as nn\n",
        "import numpy as np\n",
        "import math\n",
        "from torch.utils.data import DataLoader, Dataset\n",
        "from tqdm import tqdm\n",
        "from sklearn.model_selection import train_test_split\n",
        "from torchvision.utils import save_image\n",
        "matplotlib.style.use('ggplot')"
      ],
      "metadata": {
        "id": "GK3-F6qdvwo5"
      },
      "execution_count": null,
      "outputs": []
    },
    {
      "cell_type": "code",
      "source": [
        "from PIL import Image\n",
        "from torchvision import transforms\n",
        "\n",
        "import cv2\n",
        "import numpy as np\n",
        "import torch\n",
        "import torch.nn as nn\n",
        "import torch.nn.functional as F\n",
        "import requests\n",
        "from io import BytesIO\n",
        "\n",
        "\n",
        "class Gauss_func(object):\n",
        "    \n",
        "    def __init__(self, k=33):\n",
        "        r = k // 2\n",
        "        k = r * 2 + 1\n",
        "        self.gauss_u = nn.Conv2d(1, 1, kernel_size=(k, 1), padding=(16,0), padding_mode='replicate'\n",
        "                                , bias=False, groups=1)\n",
        "        self.gauss_v = nn.Conv2d(1, 1, kernel_size=(1, k),padding=(0,16), padding_mode='replicate'\n",
        "                               , bias=False, groups=1)\n",
        "        self.k = k \n",
        "        self.r = r\n",
        "\n",
        "        self.tensor_to_pil = transforms.ToPILImage()\n",
        "\n",
        "    def __call__(self, img):\n",
        "        img = torch.tensor(np.asarray(img)).unsqueeze(0).float()\n",
        "        img=img.unsqueeze(0).float() \n",
        "        img = img.permute(0, 1, 2, 3)\n",
        "\n",
        "        sigma = 2\n",
        "        x = np.arange(-self.r, self.r + 1)\n",
        "        x = np.exp(-np.power(x, 2) / (2 * sigma * sigma))\n",
        "        x = x / x.sum()\n",
        "        x = torch.from_numpy(x).view(1, -1).repeat(1, 1) \n",
        "\n",
        "        self.gauss_u.weight.data.copy_(x.view(1, 1, self.k, 1))\n",
        "        self.gauss_v.weight.data.copy_(x.view(1, 1, 1, self.k))\n",
        "\n",
        "        with torch.no_grad():\n",
        "            img = self.gauss_u(img)\n",
        "            img = self.gauss_v(img)\n",
        "            img = img.squeeze()\n",
        "\n",
        "        return img\n"
      ],
      "metadata": {
        "id": "paQORRYfE2bV"
      },
      "execution_count": 3,
      "outputs": []
    },
    {
      "cell_type": "code",
      "metadata": {
        "colab": {
          "base_uri": "https://localhost:8080/"
        },
        "outputId": "022ff2b9-ef5f-4854-d17f-f569678de5f8",
        "id": "h5LSHSFgT5_q"
      },
      "source": [
        "## sub images generation along with the blurred labels\n",
        "### This block of codes is given from https://github.com/HwangToeMat/SRCNN_Pytorch_HTM, ##### except the Gaussian blur function!!!!!!\n",
        "import os\n",
        "import glob\n",
        "import h5py\n",
        "import cv2\n",
        "from PIL import Image\n",
        "import numpy as np\n",
        "\n",
        "def mod_crop(image, scale = 3):\n",
        "    if len(image.shape) ==3:\n",
        "        h = image.shape[0]\n",
        "        w = image.shape[1]\n",
        "        h = h - np.mod(h,scale)\n",
        "        w = w - np.mod(w,scale)\n",
        "        return image[0:h,0:w,:]\n",
        "    else:\n",
        "        h = image.shape[0]\n",
        "        w = image.shape[1]\n",
        "        h = h - np.mod(h,scale)\n",
        "        w = w - np.mod(w,scale)\n",
        "        return image[0:h,0:w]\n",
        "\n",
        "def sub_img(input, label, i_size = 33, l_size = 33, stride = 14):\n",
        "    sub_ipt = []\n",
        "    sub_lab = []\n",
        "    pad = abs(i_size-l_size)//2\n",
        "    for h in range(0, input.shape[0] - i_size + 1, stride):\n",
        "        for w in range(0, input.shape[1] - i_size + 1, stride):\n",
        "            sub_i = input[h:h+i_size,w:w+i_size]\n",
        "            sub_l = label[h + pad :h + pad + l_size,w + pad :w + pad + l_size]\n",
        "            sub_i = sub_i.reshape(1, i_size,i_size)\n",
        "            sub_l = sub_l.reshape(1, l_size,l_size)\n",
        "            sub_ipt.append(sub_i)\n",
        "            sub_lab.append(sub_l)\n",
        "    return sub_ipt, sub_lab\n",
        "\n",
        "def load_img(file_path):\n",
        "    dir_path = os.path.join(os.getcwd(), file_path)\n",
        "    img_path = glob.glob(os.path.join(dir_path, '*.bmp'))\n",
        "    return img_path\n",
        "\n",
        "def read_img(img_path):\n",
        "    # read image\n",
        "    image = cv2.imread(img_path)\n",
        "    # rgb > ycbcr\n",
        "    image = cv2.cvtColor(image, cv2.COLOR_BGR2YCR_CB)\n",
        "    image = image[:, :, 0]\n",
        "    return image\n",
        "\n",
        "def GB_img(img, scale): #### zoom_img\n",
        "    label = img.astype('float') / 255\n",
        "    input= Gauss_func()(label)\n",
        "    input=input.numpy()\n",
        "    return input, label\n",
        "\n",
        "def img_rotate(img, degree):\n",
        "    height, width = img.shape\n",
        "    matrix = cv2.getRotationMatrix2D((width/2, height/2), 90*degree, 1)\n",
        "    if degree == 1 or degree == 3:\n",
        "        dst = cv2.warpAffine(img, matrix, (height, width))\n",
        "    else:\n",
        "        dst = cv2.warpAffine(img, matrix, (width, height))\n",
        "    return dst\n",
        "\n",
        "def save_h5(sub_ip, sub_la, savepath = '/content/drive/My Drive/data/imgs_patch.h5'): \n",
        "    path = os.path.join(os.getcwd(), savepath)\n",
        "    with h5py.File(path, 'w') as hf:\n",
        "        hf.create_dataset('input', data=sub_ip)\n",
        "        hf.create_dataset('label', data=sub_la)\n",
        "\n",
        "def data_aug(file_path = '/content/drive/My Drive/data/Train', savepath = '/content/drive/My Drive/data/imgs_patch.h5', i_size = 33, l_size = 33, stride = 14):\n",
        "    sub_ip = []\n",
        "    sub_la = []\n",
        "    num = 1\n",
        "    img_path = load_img(file_path)\n",
        "    for _ in img_path:\n",
        "        image = read_img(_)\n",
        "        for degree in [0.,1.,2.]:\n",
        "            image_r = img_rotate(image, degree)\n",
        "            for scale in [2,3]:\n",
        "                md_image = mod_crop(image_r, scale)\n",
        "                input, label = GB_img(md_image, scale)\n",
        "                sub_ipt, sub_lab = sub_img(input, label, i_size, l_size, stride)\n",
        "                sub_ip += sub_ipt\n",
        "                sub_la += sub_lab\n",
        "        print('data no.',num)\n",
        "        num += 1\n",
        "    sub_ip = np.asarray(sub_ip)\n",
        "    sub_la = np.asarray(sub_la)\n",
        "    print('input shape : ',sub_ip.shape)\n",
        "    print('label shape : ',sub_la.shape)\n",
        "    save_h5(sub_ip, sub_la, savepath)\n",
        "    print('---------save---------')\n",
        "\n",
        "if __name__ == '__main__':\n",
        "    print('starting data augmentation...')\n",
        "    data_aug()"
      ],
      "execution_count": 4,
      "outputs": [
        {
          "output_type": "stream",
          "name": "stdout",
          "text": [
            "starting data augmentation...\n",
            "data no. 1\n",
            "data no. 2\n",
            "data no. 3\n",
            "data no. 4\n",
            "data no. 5\n",
            "data no. 6\n",
            "data no. 7\n",
            "data no. 8\n",
            "data no. 9\n",
            "data no. 10\n",
            "data no. 11\n",
            "data no. 12\n",
            "data no. 13\n",
            "data no. 14\n",
            "data no. 15\n",
            "data no. 16\n",
            "data no. 17\n",
            "data no. 18\n",
            "data no. 19\n",
            "data no. 20\n",
            "data no. 21\n",
            "data no. 22\n",
            "data no. 23\n",
            "data no. 24\n",
            "data no. 25\n",
            "data no. 26\n",
            "data no. 27\n",
            "data no. 28\n",
            "data no. 29\n",
            "data no. 30\n",
            "data no. 31\n",
            "data no. 32\n",
            "data no. 33\n",
            "data no. 34\n",
            "data no. 35\n",
            "data no. 36\n",
            "data no. 37\n",
            "data no. 38\n",
            "data no. 39\n",
            "data no. 40\n",
            "data no. 41\n",
            "data no. 42\n",
            "data no. 43\n",
            "data no. 44\n",
            "data no. 45\n",
            "data no. 46\n",
            "data no. 47\n",
            "data no. 48\n",
            "data no. 49\n",
            "data no. 50\n",
            "data no. 51\n",
            "data no. 52\n",
            "data no. 53\n",
            "data no. 54\n",
            "data no. 55\n",
            "data no. 56\n",
            "data no. 57\n",
            "data no. 58\n",
            "data no. 59\n",
            "data no. 60\n",
            "data no. 61\n",
            "data no. 62\n",
            "data no. 63\n",
            "data no. 64\n",
            "data no. 65\n",
            "data no. 66\n",
            "data no. 67\n",
            "data no. 68\n",
            "data no. 69\n",
            "data no. 70\n",
            "data no. 71\n",
            "data no. 72\n",
            "data no. 73\n",
            "data no. 74\n",
            "data no. 75\n",
            "data no. 76\n",
            "data no. 77\n",
            "data no. 78\n",
            "data no. 79\n",
            "data no. 80\n",
            "data no. 81\n",
            "data no. 82\n",
            "data no. 83\n",
            "data no. 84\n",
            "data no. 85\n",
            "data no. 86\n",
            "data no. 87\n",
            "data no. 88\n",
            "data no. 89\n",
            "data no. 90\n",
            "data no. 91\n",
            "input shape :  (131382, 1, 33, 33)\n",
            "label shape :  (131382, 1, 33, 33)\n",
            "---------save---------\n"
          ]
        }
      ]
    },
    {
      "cell_type": "code",
      "source": [
        "def data_patch_example(file_path = '/content/drive/My Drive/data/Train', \n",
        "i_size = 66, l_size = 66, stride = 14):\n",
        "    sub_ip = []\n",
        "    sub_la = []\n",
        "    num = 1\n",
        "    img_path = load_img(file_path)\n",
        "    for _ in img_path:\n",
        "        if num>1:\n",
        "          continue\n",
        "        image = read_img(_)\n",
        "        for degree in [0.]: #,1.,2.,3.]:\n",
        "            image_r = img_rotate(image, degree)\n",
        "            for scale in [2]: #,3,4]:\n",
        "                md_image = mod_crop(image_r, scale)\n",
        "                input, label = GB_img(md_image, scale)\n",
        "                sub_ipt, sub_lab = sub_img(input, label, i_size, l_size, stride)\n",
        "                sub_ip.append(sub_ipt)\n",
        "                sub_la.append(sub_lab)\n",
        "        print('data no.',num)\n",
        "        num += 1\n",
        "    sub_ip = np.asarray(sub_ip)\n",
        "    sub_la = np.asarray(sub_la)\n",
        "    return sub_ip, sub_la\n",
        "\n",
        "a,b= data_patch_example(file_path = '/content/drive/My Drive/data/Train')"
      ],
      "metadata": {
        "colab": {
          "base_uri": "https://localhost:8080/"
        },
        "id": "q8kxKUOfhnzr",
        "outputId": "bec4a4ce-46b1-4860-c903-703b9ac13fde"
      },
      "execution_count": 6,
      "outputs": [
        {
          "output_type": "stream",
          "name": "stdout",
          "text": [
            "data no. 1\n"
          ]
        }
      ]
    },
    {
      "cell_type": "code",
      "source": [
        "b.shape #### sub image and labal\n",
        "\n",
        "plt.imshow(a[0,0,0],cmap=\"gray\")\n",
        "plt.show()\n",
        "plt.imshow(b[0,0,0],cmap=\"gray\")\n",
        "plt.show()"
      ],
      "metadata": {
        "colab": {
          "base_uri": "https://localhost:8080/",
          "height": 519
        },
        "id": "kFjcegYkhsdS",
        "outputId": "ec5b03ab-0e3c-4908-97f4-ba543a45c260"
      },
      "execution_count": 9,
      "outputs": [
        {
          "output_type": "display_data",
          "data": {
            "text/plain": [
              "<Figure size 432x288 with 1 Axes>"
            ],
            "image/png": "[encoded data removed]"
          },
          "metadata": {}
        },
        {
          "output_type": "display_data",
          "data": {
            "text/plain": [
              "<Figure size 432x288 with 1 Axes>"
            ],
            "image/png": "[encoded data removed]"
          },
          "metadata": {}
        }
      ]
    },
    {
      "cell_type": "code",
      "metadata": {
        "id": "itudU2zeXSe3"
      },
      "source": [
        "sub_imgs = h5py.File('/content/drive/My Drive/data/imgs_patch.h5')\n",
        "blurred = sub_imgs['input'][:] \n",
        "clear = sub_imgs['label'][:] \n",
        "sub_imgs.close()\n",
        "clear = clear.astype('float32')\n",
        "blurred = blurred.astype('float32')"
      ],
      "execution_count": 10,
      "outputs": []
    },
    {
      "cell_type": "code",
      "metadata": {
        "id": "3AwmgyCvob64"
      },
      "source": [
        "(clear_train, clear_val, blurr_train, blurr_val) = train_test_split(clear, blurred, test_size=0.25)"
      ],
      "execution_count": 11,
      "outputs": []
    },
    {
      "cell_type": "code",
      "source": [
        "clear_train.shape"
      ],
      "metadata": {
        "colab": {
          "base_uri": "https://localhost:8080/"
        },
        "id": "5wyS_kaCJOEh",
        "outputId": "e8f7576b-5109-4b60-a5eb-8b8be2fcb90d"
      },
      "execution_count": 12,
      "outputs": [
        {
          "output_type": "execute_result",
          "data": {
            "text/plain": [
              "(98536, 1, 33, 33)"
            ]
          },
          "metadata": {},
          "execution_count": 12
        }
      ]
    },
    {
      "cell_type": "code",
      "metadata": {
        "id": "_z5P-EkQr4j_"
      },
      "source": [
        "\n",
        "class AnetDataset(Dataset):\n",
        "    def __init__(self, imgs, labls):\n",
        "        self.imgs = imgs\n",
        "        self.labls = labls\n",
        "    def __len__(self):\n",
        "        return (len(self.imgs))\n",
        "    def __getitem__(self, index):\n",
        "        img = self.imgs[index]\n",
        "        labl = self.labls[index]\n",
        "        return (\n",
        "            torch.tensor(img, dtype=torch.float),\n",
        "            torch.tensor(labl, dtype=torch.float)\n",
        "        )"
      ],
      "execution_count": 13,
      "outputs": []
    },
    {
      "cell_type": "code",
      "source": [
        "# hyperparamters\n",
        "batch_num = 64 \n",
        "epochs = 90\n",
        "lr = 0.001 "
      ],
      "metadata": {
        "id": "YkLRKmm6wBOU"
      },
      "execution_count": 15,
      "outputs": []
    },
    {
      "cell_type": "code",
      "metadata": {
        "id": "WCyDfAqhvxYP"
      },
      "source": [
        "# load train and validation data\n",
        "imgs_train = AnetDataset(clear_train, blurr_train)\n",
        "img_valid = AnetDataset(clear_val, blurr_val)\n",
        "load_train = DataLoader(imgs_train, batch_size=batch_num)\n",
        "load_valid = DataLoader(img_valid, batch_size=batch_num)"
      ],
      "execution_count": 16,
      "outputs": []
    },
    {
      "cell_type": "code",
      "source": [
        "import math"
      ],
      "metadata": {
        "id": "2VUbK0N_0kRO"
      },
      "execution_count": 17,
      "outputs": []
    },
    {
      "cell_type": "code",
      "source": [
        "# loss function \n",
        "obj=nn.MSELoss()"
      ],
      "metadata": {
        "id": "HdPHDUpZ0pjt"
      },
      "execution_count": 18,
      "outputs": []
    },
    {
      "cell_type": "code",
      "metadata": {
        "id": "qf5NUK7m6Q_k"
      },
      "source": [
        "\n",
        "def user_loss(recon_y, y, U, V, alpha=0.0001):\n",
        "\n",
        "    E = torch.subtract(y, recon_y)\n",
        "    sumE2 = torch.mean(torch.mul(E, E))\n",
        "    sumU2 = torch.mean(torch.mul(U, U))\n",
        "    sumV2 = torch.mean(torch.mul(V, V))\n",
        "\n",
        "    obj = sumE2 + alpha*(sumU2 + sumV2) \n",
        "\n",
        "    return obj"
      ],
      "execution_count": null,
      "outputs": []
    },
    {
      "cell_type": "code",
      "metadata": {
        "id": "tAYAX6az2uE4"
      },
      "source": [
        "optimizer = optim.Adam(model.parameters(), lr=lr)"
      ],
      "execution_count": 19,
      "outputs": []
    },
    {
      "cell_type": "code",
      "metadata": {
        "id": "Qb0mxLWIPqdd"
      },
      "source": [
        "def recon(model, dataloader):\n",
        "    model.train()\n",
        "    batch_loss = 0.0\n",
        "    for bi, data in tqdm(enumerate(dataloader), total=int(len(imgs_train)/dataloader.batch_size)):\n",
        "        image_data = data[0].to(device)\n",
        "        label = data[1].to(device)\n",
        "        optimizer.zero_grad()\n",
        "        x2,_, U, V  = model(image_data)\n",
        "        l2_norm = sum(p.pow(2.0).sum() for p in model.parameters()) \n",
        "        loss = obj(x2, label)\n",
        "        loss= loss +  0.001*l2_norm \n",
        "        \n",
        "        loss.backward()\n",
        "        \n",
        "        optimizer.step()\n",
        "        \n",
        "        batch_loss += loss.item()\n",
        "\n",
        "    loss = batch_loss/len(dataloader.dataset)\n",
        "    \n",
        "    return loss"
      ],
      "execution_count": 20,
      "outputs": []
    },
    {
      "cell_type": "code",
      "metadata": {
        "id": "g4rlX6TwQUII"
      },
      "source": [
        "def validate(model, dataloader, epoch):\n",
        "    model.eval()\n",
        "    batch_loss = 0.0\n",
        "    with torch.no_grad():\n",
        "        for bi, data in tqdm(enumerate(dataloader), total=int(len(img_valid)/dataloader.batch_size)):\n",
        "            imgs = data[0].to(device)\n",
        "            labls = data[1].to(device)\n",
        "            x2,_, U, V  = model(imgs)\n",
        "            l2_norm = sum(p.pow(2.0).sum() for p in model.parameters())\n",
        "            loss = obj(x2, labls)\n",
        "            loss= loss +  0.001*l2_norm\n",
        "            batch_loss += loss.item()\n",
        "        outputs = x2.cpu()\n",
        "        #save_image(outputs, f\"/content/drive/My Drive/outs/val{epoch}.png\")\n",
        "        \n",
        "    loss = batch_loss/len(dataloader.dataset)\n",
        "    \n",
        "    return loss"
      ],
      "execution_count": 21,
      "outputs": []
    },
    {
      "cell_type": "code",
      "metadata": {
        "colab": {
          "base_uri": "https://localhost:8080/"
        },
        "id": "ToZATikVQxzs",
        "outputId": "4ad18493-e5a4-4c60-bf8a-26687d4234e2"
      },
      "source": [
        "Loss_recon, Loss_valid = [], []\n",
        "\n",
        "start = time.time()\n",
        "for epoch in range(epochs):\n",
        "    print(f\"Epoch {epoch + 1} of {epochs}\")\n",
        "    loss_recon= recon(model, load_train)\n",
        "    loss_validate = validate(model, load_valid, epoch)\n",
        "    Loss_recon.append(loss_recon)\n",
        "\n",
        "    Loss_valid.append(loss_validate)\n",
        "\n",
        "end = time.time()\n",
        "print(f\"timing: {((end-start)/60):.3f} mins\")"
      ],
      "execution_count": 22,
      "outputs": [
        {
          "output_type": "stream",
          "name": "stdout",
          "text": [
            "Epoch 1 of 90\n"
          ]
        },
        {
          "output_type": "stream",
          "name": "stderr",
          "text": [
            "1540it [00:12, 120.63it/s]                          \n",
            "514it [00:00, 518.17it/s]                         \n"
          ]
        },
        {
          "output_type": "stream",
          "name": "stdout",
          "text": [
            "Epoch 2 of 90\n"
          ]
        },
        {
          "output_type": "stream",
          "name": "stderr",
          "text": [
            "1540it [00:05, 272.07it/s]                          \n",
            "514it [00:01, 347.80it/s]                         \n"
          ]
        },
        {
          "output_type": "stream",
          "name": "stdout",
          "text": [
            "Epoch 3 of 90\n"
          ]
        },
        {
          "output_type": "stream",
          "name": "stderr",
          "text": [
            "1540it [00:05, 278.12it/s]                          \n",
            "514it [00:01, 500.53it/s]                         \n"
          ]
        },
        {
          "output_type": "stream",
          "name": "stdout",
          "text": [
            "Epoch 4 of 90\n"
          ]
        },
        {
          "output_type": "stream",
          "name": "stderr",
          "text": [
            "1540it [00:05, 269.19it/s]                          \n",
            "514it [00:01, 353.54it/s]                         \n"
          ]
        },
        {
          "output_type": "stream",
          "name": "stdout",
          "text": [
            "Epoch 5 of 90\n"
          ]
        },
        {
          "output_type": "stream",
          "name": "stderr",
          "text": [
            "1540it [00:05, 288.08it/s]                          \n",
            "514it [00:01, 504.24it/s]                         \n"
          ]
        },
        {
          "output_type": "stream",
          "name": "stdout",
          "text": [
            "Epoch 6 of 90\n"
          ]
        },
        {
          "output_type": "stream",
          "name": "stderr",
          "text": [
            "1540it [00:05, 263.86it/s]                          \n",
            "514it [00:01, 353.11it/s]                         \n"
          ]
        },
        {
          "output_type": "stream",
          "name": "stdout",
          "text": [
            "Epoch 7 of 90\n"
          ]
        },
        {
          "output_type": "stream",
          "name": "stderr",
          "text": [
            "1540it [00:05, 286.20it/s]                          \n",
            "514it [00:01, 508.26it/s]                         \n"
          ]
        },
        {
          "output_type": "stream",
          "name": "stdout",
          "text": [
            "Epoch 8 of 90\n"
          ]
        },
        {
          "output_type": "stream",
          "name": "stderr",
          "text": [
            "1540it [00:05, 257.45it/s]                          \n",
            "514it [00:01, 414.78it/s]                         \n"
          ]
        },
        {
          "output_type": "stream",
          "name": "stdout",
          "text": [
            "Epoch 9 of 90\n"
          ]
        },
        {
          "output_type": "stream",
          "name": "stderr",
          "text": [
            "1540it [00:05, 285.05it/s]                          \n",
            "514it [00:01, 503.94it/s]                         \n"
          ]
        },
        {
          "output_type": "stream",
          "name": "stdout",
          "text": [
            "Epoch 10 of 90\n"
          ]
        },
        {
          "output_type": "stream",
          "name": "stderr",
          "text": [
            "1540it [00:06, 250.72it/s]                          \n",
            "514it [00:01, 437.87it/s]                         \n"
          ]
        },
        {
          "output_type": "stream",
          "name": "stdout",
          "text": [
            "Epoch 11 of 90\n"
          ]
        },
        {
          "output_type": "stream",
          "name": "stderr",
          "text": [
            "1540it [00:05, 288.06it/s]                          \n",
            "514it [00:01, 506.75it/s]                         \n"
          ]
        },
        {
          "output_type": "stream",
          "name": "stdout",
          "text": [
            "Epoch 12 of 90\n"
          ]
        },
        {
          "output_type": "stream",
          "name": "stderr",
          "text": [
            "1540it [00:06, 240.97it/s]                          \n",
            "514it [00:01, 491.52it/s]                         \n"
          ]
        },
        {
          "output_type": "stream",
          "name": "stdout",
          "text": [
            "Epoch 13 of 90\n"
          ]
        },
        {
          "output_type": "stream",
          "name": "stderr",
          "text": [
            "1540it [00:05, 288.17it/s]                          \n",
            "514it [00:01, 498.35it/s]                         \n"
          ]
        },
        {
          "output_type": "stream",
          "name": "stdout",
          "text": [
            "Epoch 14 of 90\n"
          ]
        },
        {
          "output_type": "stream",
          "name": "stderr",
          "text": [
            "1540it [00:06, 253.71it/s]                          \n",
            "514it [00:01, 504.85it/s]                         \n"
          ]
        },
        {
          "output_type": "stream",
          "name": "stdout",
          "text": [
            "Epoch 15 of 90\n"
          ]
        },
        {
          "output_type": "stream",
          "name": "stderr",
          "text": [
            "1540it [00:05, 286.89it/s]\n",
            "514it [00:01, 384.39it/s]                         \n"
          ]
        },
        {
          "output_type": "stream",
          "name": "stdout",
          "text": [
            "Epoch 16 of 90\n"
          ]
        },
        {
          "output_type": "stream",
          "name": "stderr",
          "text": [
            "1540it [00:06, 241.14it/s]                          \n",
            "514it [00:01, 494.50it/s]                         \n"
          ]
        },
        {
          "output_type": "stream",
          "name": "stdout",
          "text": [
            "Epoch 17 of 90\n"
          ]
        },
        {
          "output_type": "stream",
          "name": "stderr",
          "text": [
            "1540it [00:05, 289.67it/s]                          \n",
            "514it [00:01, 489.53it/s]                         \n"
          ]
        },
        {
          "output_type": "stream",
          "name": "stdout",
          "text": [
            "Epoch 18 of 90\n"
          ]
        },
        {
          "output_type": "stream",
          "name": "stderr",
          "text": [
            "1540it [00:06, 252.18it/s]                          \n",
            "514it [00:01, 508.23it/s]                         \n"
          ]
        },
        {
          "output_type": "stream",
          "name": "stdout",
          "text": [
            "Epoch 19 of 90\n"
          ]
        },
        {
          "output_type": "stream",
          "name": "stderr",
          "text": [
            "1540it [00:05, 284.25it/s]                          \n",
            "514it [00:01, 482.72it/s]                         \n"
          ]
        },
        {
          "output_type": "stream",
          "name": "stdout",
          "text": [
            "Epoch 20 of 90\n"
          ]
        },
        {
          "output_type": "stream",
          "name": "stderr",
          "text": [
            "1540it [00:06, 255.12it/s]                          \n",
            "514it [00:01, 510.38it/s]                         \n"
          ]
        },
        {
          "output_type": "stream",
          "name": "stdout",
          "text": [
            "Epoch 21 of 90\n"
          ]
        },
        {
          "output_type": "stream",
          "name": "stderr",
          "text": [
            "1540it [00:05, 287.95it/s]                          \n",
            "514it [00:01, 485.32it/s]                         \n"
          ]
        },
        {
          "output_type": "stream",
          "name": "stdout",
          "text": [
            "Epoch 22 of 90\n"
          ]
        },
        {
          "output_type": "stream",
          "name": "stderr",
          "text": [
            "1540it [00:06, 253.11it/s]                          \n",
            "514it [00:01, 508.67it/s]                         \n"
          ]
        },
        {
          "output_type": "stream",
          "name": "stdout",
          "text": [
            "Epoch 23 of 90\n"
          ]
        },
        {
          "output_type": "stream",
          "name": "stderr",
          "text": [
            "1540it [00:05, 288.34it/s]                          \n",
            "514it [00:01, 474.09it/s]                         \n"
          ]
        },
        {
          "output_type": "stream",
          "name": "stdout",
          "text": [
            "Epoch 24 of 90\n"
          ]
        },
        {
          "output_type": "stream",
          "name": "stderr",
          "text": [
            "1540it [00:06, 253.68it/s]                          \n",
            "514it [00:01, 504.70it/s]                         \n"
          ]
        },
        {
          "output_type": "stream",
          "name": "stdout",
          "text": [
            "Epoch 25 of 90\n"
          ]
        },
        {
          "output_type": "stream",
          "name": "stderr",
          "text": [
            "1540it [00:05, 290.32it/s]                          \n",
            "514it [00:01, 491.97it/s]                         \n"
          ]
        },
        {
          "output_type": "stream",
          "name": "stdout",
          "text": [
            "Epoch 26 of 90\n"
          ]
        },
        {
          "output_type": "stream",
          "name": "stderr",
          "text": [
            "1540it [00:06, 251.53it/s]                          \n",
            "514it [00:01, 500.03it/s]                         \n"
          ]
        },
        {
          "output_type": "stream",
          "name": "stdout",
          "text": [
            "Epoch 27 of 90\n"
          ]
        },
        {
          "output_type": "stream",
          "name": "stderr",
          "text": [
            "1540it [00:05, 285.60it/s]                          \n",
            "514it [00:01, 500.34it/s]                         \n"
          ]
        },
        {
          "output_type": "stream",
          "name": "stdout",
          "text": [
            "Epoch 28 of 90\n"
          ]
        },
        {
          "output_type": "stream",
          "name": "stderr",
          "text": [
            "1540it [00:06, 253.48it/s]                          \n",
            "514it [00:01, 510.13it/s]                         \n"
          ]
        },
        {
          "output_type": "stream",
          "name": "stdout",
          "text": [
            "Epoch 29 of 90\n"
          ]
        },
        {
          "output_type": "stream",
          "name": "stderr",
          "text": [
            "1540it [00:05, 288.56it/s]                          \n",
            "514it [00:01, 500.06it/s]                         \n"
          ]
        },
        {
          "output_type": "stream",
          "name": "stdout",
          "text": [
            "Epoch 30 of 90\n"
          ]
        },
        {
          "output_type": "stream",
          "name": "stderr",
          "text": [
            "1540it [00:06, 254.11it/s]                          \n",
            "514it [00:00, 514.81it/s]                         \n"
          ]
        },
        {
          "output_type": "stream",
          "name": "stdout",
          "text": [
            "Epoch 31 of 90\n"
          ]
        },
        {
          "output_type": "stream",
          "name": "stderr",
          "text": [
            "1540it [00:05, 291.78it/s]                          \n",
            "514it [00:01, 495.00it/s]\n"
          ]
        },
        {
          "output_type": "stream",
          "name": "stdout",
          "text": [
            "Epoch 32 of 90\n"
          ]
        },
        {
          "output_type": "stream",
          "name": "stderr",
          "text": [
            "1540it [00:06, 251.74it/s]                          \n",
            "514it [00:01, 484.19it/s]                         \n"
          ]
        },
        {
          "output_type": "stream",
          "name": "stdout",
          "text": [
            "Epoch 33 of 90\n"
          ]
        },
        {
          "output_type": "stream",
          "name": "stderr",
          "text": [
            "1540it [00:05, 287.09it/s]                          \n",
            "514it [00:01, 508.64it/s]                         \n"
          ]
        },
        {
          "output_type": "stream",
          "name": "stdout",
          "text": [
            "Epoch 34 of 90\n"
          ]
        },
        {
          "output_type": "stream",
          "name": "stderr",
          "text": [
            "1540it [00:06, 252.96it/s]                          \n",
            "514it [00:01, 513.18it/s]                         \n"
          ]
        },
        {
          "output_type": "stream",
          "name": "stdout",
          "text": [
            "Epoch 35 of 90\n"
          ]
        },
        {
          "output_type": "stream",
          "name": "stderr",
          "text": [
            "1540it [00:05, 285.57it/s]                          \n",
            "514it [00:01, 489.07it/s]                         \n"
          ]
        },
        {
          "output_type": "stream",
          "name": "stdout",
          "text": [
            "Epoch 36 of 90\n"
          ]
        },
        {
          "output_type": "stream",
          "name": "stderr",
          "text": [
            "1540it [00:06, 252.84it/s]                          \n",
            "514it [00:01, 509.33it/s]                         \n"
          ]
        },
        {
          "output_type": "stream",
          "name": "stdout",
          "text": [
            "Epoch 37 of 90\n"
          ]
        },
        {
          "output_type": "stream",
          "name": "stderr",
          "text": [
            "1540it [00:05, 282.71it/s]                          \n",
            "514it [00:01, 447.26it/s]                         \n"
          ]
        },
        {
          "output_type": "stream",
          "name": "stdout",
          "text": [
            "Epoch 38 of 90\n"
          ]
        },
        {
          "output_type": "stream",
          "name": "stderr",
          "text": [
            "1540it [00:06, 254.82it/s]                          \n",
            "514it [00:01, 491.50it/s]                         \n"
          ]
        },
        {
          "output_type": "stream",
          "name": "stdout",
          "text": [
            "Epoch 39 of 90\n"
          ]
        },
        {
          "output_type": "stream",
          "name": "stderr",
          "text": [
            "1540it [00:05, 283.68it/s]                          \n",
            "514it [00:01, 394.38it/s]                         \n"
          ]
        },
        {
          "output_type": "stream",
          "name": "stdout",
          "text": [
            "Epoch 40 of 90\n"
          ]
        },
        {
          "output_type": "stream",
          "name": "stderr",
          "text": [
            "1540it [00:05, 264.59it/s]                          \n",
            "514it [00:01, 508.33it/s]                         \n"
          ]
        },
        {
          "output_type": "stream",
          "name": "stdout",
          "text": [
            "Epoch 41 of 90\n"
          ]
        },
        {
          "output_type": "stream",
          "name": "stderr",
          "text": [
            "1540it [00:05, 288.26it/s]                          \n",
            "514it [00:01, 354.06it/s]                         \n"
          ]
        },
        {
          "output_type": "stream",
          "name": "stdout",
          "text": [
            "Epoch 42 of 90\n"
          ]
        },
        {
          "output_type": "stream",
          "name": "stderr",
          "text": [
            "1540it [00:05, 262.37it/s]                          \n",
            "514it [00:01, 507.40it/s]                         \n"
          ]
        },
        {
          "output_type": "stream",
          "name": "stdout",
          "text": [
            "Epoch 43 of 90\n"
          ]
        },
        {
          "output_type": "stream",
          "name": "stderr",
          "text": [
            "1540it [00:05, 289.33it/s]                          \n",
            "514it [00:01, 353.14it/s]                         \n"
          ]
        },
        {
          "output_type": "stream",
          "name": "stdout",
          "text": [
            "Epoch 44 of 90\n"
          ]
        },
        {
          "output_type": "stream",
          "name": "stderr",
          "text": [
            "1540it [00:05, 266.87it/s]                          \n",
            "514it [00:01, 495.19it/s]                         \n"
          ]
        },
        {
          "output_type": "stream",
          "name": "stdout",
          "text": [
            "Epoch 45 of 90\n"
          ]
        },
        {
          "output_type": "stream",
          "name": "stderr",
          "text": [
            "1540it [00:05, 285.65it/s]                          \n",
            "514it [00:01, 357.62it/s]\n"
          ]
        },
        {
          "output_type": "stream",
          "name": "stdout",
          "text": [
            "Epoch 46 of 90\n"
          ]
        },
        {
          "output_type": "stream",
          "name": "stderr",
          "text": [
            "1540it [00:05, 268.41it/s]                          \n",
            "514it [00:01, 506.95it/s]                         \n"
          ]
        },
        {
          "output_type": "stream",
          "name": "stdout",
          "text": [
            "Epoch 47 of 90\n"
          ]
        },
        {
          "output_type": "stream",
          "name": "stderr",
          "text": [
            "1540it [00:05, 278.34it/s]                          \n",
            "514it [00:01, 353.19it/s]                         \n"
          ]
        },
        {
          "output_type": "stream",
          "name": "stdout",
          "text": [
            "Epoch 48 of 90\n"
          ]
        },
        {
          "output_type": "stream",
          "name": "stderr",
          "text": [
            "1540it [00:05, 276.96it/s]                          \n",
            "514it [00:01, 510.19it/s]                         \n"
          ]
        },
        {
          "output_type": "stream",
          "name": "stdout",
          "text": [
            "Epoch 49 of 90\n"
          ]
        },
        {
          "output_type": "stream",
          "name": "stderr",
          "text": [
            "1540it [00:05, 283.64it/s]                          \n",
            "514it [00:01, 350.84it/s]                         \n"
          ]
        },
        {
          "output_type": "stream",
          "name": "stdout",
          "text": [
            "Epoch 50 of 90\n"
          ]
        },
        {
          "output_type": "stream",
          "name": "stderr",
          "text": [
            "1540it [00:05, 272.72it/s]                          \n",
            "514it [00:01, 497.41it/s]                         \n"
          ]
        },
        {
          "output_type": "stream",
          "name": "stdout",
          "text": [
            "Epoch 51 of 90\n"
          ]
        },
        {
          "output_type": "stream",
          "name": "stderr",
          "text": [
            "1540it [00:05, 273.84it/s]                          \n",
            "514it [00:01, 352.13it/s]                         \n"
          ]
        },
        {
          "output_type": "stream",
          "name": "stdout",
          "text": [
            "Epoch 52 of 90\n"
          ]
        },
        {
          "output_type": "stream",
          "name": "stderr",
          "text": [
            "1540it [00:05, 278.75it/s]                          \n",
            "514it [00:01, 496.85it/s]                         \n"
          ]
        },
        {
          "output_type": "stream",
          "name": "stdout",
          "text": [
            "Epoch 53 of 90\n"
          ]
        },
        {
          "output_type": "stream",
          "name": "stderr",
          "text": [
            "1540it [00:05, 275.37it/s]                          \n",
            "514it [00:01, 357.65it/s]                         \n"
          ]
        },
        {
          "output_type": "stream",
          "name": "stdout",
          "text": [
            "Epoch 54 of 90\n"
          ]
        },
        {
          "output_type": "stream",
          "name": "stderr",
          "text": [
            "1540it [00:05, 283.82it/s]                          \n",
            "514it [00:01, 500.75it/s]                         \n"
          ]
        },
        {
          "output_type": "stream",
          "name": "stdout",
          "text": [
            "Epoch 55 of 90\n"
          ]
        },
        {
          "output_type": "stream",
          "name": "stderr",
          "text": [
            "1540it [00:05, 268.80it/s]                          \n",
            "514it [00:01, 362.02it/s]                         \n"
          ]
        },
        {
          "output_type": "stream",
          "name": "stdout",
          "text": [
            "Epoch 56 of 90\n"
          ]
        },
        {
          "output_type": "stream",
          "name": "stderr",
          "text": [
            "1540it [00:05, 285.35it/s]                          \n",
            "514it [00:01, 509.40it/s]                         \n"
          ]
        },
        {
          "output_type": "stream",
          "name": "stdout",
          "text": [
            "Epoch 57 of 90\n"
          ]
        },
        {
          "output_type": "stream",
          "name": "stderr",
          "text": [
            "1540it [00:05, 269.18it/s]                          \n",
            "514it [00:01, 351.89it/s]                         \n"
          ]
        },
        {
          "output_type": "stream",
          "name": "stdout",
          "text": [
            "Epoch 58 of 90\n"
          ]
        },
        {
          "output_type": "stream",
          "name": "stderr",
          "text": [
            "1540it [00:05, 290.59it/s]                          \n",
            "514it [00:01, 512.43it/s]                         \n"
          ]
        },
        {
          "output_type": "stream",
          "name": "stdout",
          "text": [
            "Epoch 59 of 90\n"
          ]
        },
        {
          "output_type": "stream",
          "name": "stderr",
          "text": [
            "1540it [00:05, 266.71it/s]                          \n",
            "514it [00:01, 349.78it/s]                         \n"
          ]
        },
        {
          "output_type": "stream",
          "name": "stdout",
          "text": [
            "Epoch 60 of 90\n"
          ]
        },
        {
          "output_type": "stream",
          "name": "stderr",
          "text": [
            "1540it [00:05, 282.87it/s]                          \n",
            "514it [00:01, 507.60it/s]                         \n"
          ]
        },
        {
          "output_type": "stream",
          "name": "stdout",
          "text": [
            "Epoch 61 of 90\n"
          ]
        },
        {
          "output_type": "stream",
          "name": "stderr",
          "text": [
            "1540it [00:05, 264.69it/s]                          \n",
            "514it [00:01, 378.45it/s]                         \n"
          ]
        },
        {
          "output_type": "stream",
          "name": "stdout",
          "text": [
            "Epoch 62 of 90\n"
          ]
        },
        {
          "output_type": "stream",
          "name": "stderr",
          "text": [
            "1540it [00:05, 285.87it/s]                          \n",
            "514it [00:01, 498.45it/s]                         \n"
          ]
        },
        {
          "output_type": "stream",
          "name": "stdout",
          "text": [
            "Epoch 63 of 90\n"
          ]
        },
        {
          "output_type": "stream",
          "name": "stderr",
          "text": [
            "1540it [00:06, 256.19it/s]                          \n",
            "514it [00:01, 420.28it/s]                         \n"
          ]
        },
        {
          "output_type": "stream",
          "name": "stdout",
          "text": [
            "Epoch 64 of 90\n"
          ]
        },
        {
          "output_type": "stream",
          "name": "stderr",
          "text": [
            "1540it [00:05, 284.61it/s]                          \n",
            "514it [00:01, 491.88it/s]                         \n"
          ]
        },
        {
          "output_type": "stream",
          "name": "stdout",
          "text": [
            "Epoch 65 of 90\n"
          ]
        },
        {
          "output_type": "stream",
          "name": "stderr",
          "text": [
            "1540it [00:05, 256.68it/s]                          \n",
            "514it [00:01, 455.76it/s]                         \n"
          ]
        },
        {
          "output_type": "stream",
          "name": "stdout",
          "text": [
            "Epoch 66 of 90\n"
          ]
        },
        {
          "output_type": "stream",
          "name": "stderr",
          "text": [
            "1540it [00:05, 287.90it/s]                          \n",
            "514it [00:01, 512.68it/s]                         \n"
          ]
        },
        {
          "output_type": "stream",
          "name": "stdout",
          "text": [
            "Epoch 67 of 90\n"
          ]
        },
        {
          "output_type": "stream",
          "name": "stderr",
          "text": [
            "1540it [00:05, 260.17it/s]                          \n",
            "514it [00:01, 454.50it/s]                         \n"
          ]
        },
        {
          "output_type": "stream",
          "name": "stdout",
          "text": [
            "Epoch 68 of 90\n"
          ]
        },
        {
          "output_type": "stream",
          "name": "stderr",
          "text": [
            "1540it [00:05, 283.42it/s]                          \n",
            "514it [00:01, 503.04it/s]                         \n"
          ]
        },
        {
          "output_type": "stream",
          "name": "stdout",
          "text": [
            "Epoch 69 of 90\n"
          ]
        },
        {
          "output_type": "stream",
          "name": "stderr",
          "text": [
            "1540it [00:06, 255.36it/s]                          \n",
            "514it [00:01, 505.83it/s]                         \n"
          ]
        },
        {
          "output_type": "stream",
          "name": "stdout",
          "text": [
            "Epoch 70 of 90\n"
          ]
        },
        {
          "output_type": "stream",
          "name": "stderr",
          "text": [
            "1540it [00:05, 290.71it/s]                          \n",
            "514it [00:01, 506.50it/s]                         \n"
          ]
        },
        {
          "output_type": "stream",
          "name": "stdout",
          "text": [
            "Epoch 71 of 90\n"
          ]
        },
        {
          "output_type": "stream",
          "name": "stderr",
          "text": [
            "1540it [00:06, 253.62it/s]                          \n",
            "514it [00:01, 501.56it/s]                         \n"
          ]
        },
        {
          "output_type": "stream",
          "name": "stdout",
          "text": [
            "Epoch 72 of 90\n"
          ]
        },
        {
          "output_type": "stream",
          "name": "stderr",
          "text": [
            "1540it [00:05, 288.40it/s]                          \n",
            "514it [00:01, 505.91it/s]                         \n"
          ]
        },
        {
          "output_type": "stream",
          "name": "stdout",
          "text": [
            "Epoch 73 of 90\n"
          ]
        },
        {
          "output_type": "stream",
          "name": "stderr",
          "text": [
            "1540it [00:06, 251.23it/s]                          \n",
            "514it [00:01, 500.88it/s]                         \n"
          ]
        },
        {
          "output_type": "stream",
          "name": "stdout",
          "text": [
            "Epoch 74 of 90\n"
          ]
        },
        {
          "output_type": "stream",
          "name": "stderr",
          "text": [
            "1540it [00:05, 286.20it/s]                          \n",
            "514it [00:01, 502.62it/s]                         \n"
          ]
        },
        {
          "output_type": "stream",
          "name": "stdout",
          "text": [
            "Epoch 75 of 90\n"
          ]
        },
        {
          "output_type": "stream",
          "name": "stderr",
          "text": [
            "1540it [00:06, 251.94it/s]                          \n",
            "514it [00:01, 503.48it/s]                         \n"
          ]
        },
        {
          "output_type": "stream",
          "name": "stdout",
          "text": [
            "Epoch 76 of 90\n"
          ]
        },
        {
          "output_type": "stream",
          "name": "stderr",
          "text": [
            "1540it [00:05, 288.60it/s]                          \n",
            "514it [00:00, 516.78it/s]                         \n"
          ]
        },
        {
          "output_type": "stream",
          "name": "stdout",
          "text": [
            "Epoch 77 of 90\n"
          ]
        },
        {
          "output_type": "stream",
          "name": "stderr",
          "text": [
            "1540it [00:06, 250.27it/s]                          \n",
            "514it [00:01, 489.72it/s]                         \n"
          ]
        },
        {
          "output_type": "stream",
          "name": "stdout",
          "text": [
            "Epoch 78 of 90\n"
          ]
        },
        {
          "output_type": "stream",
          "name": "stderr",
          "text": [
            "1540it [00:05, 288.69it/s]                          \n",
            "514it [00:01, 507.93it/s]                         \n"
          ]
        },
        {
          "output_type": "stream",
          "name": "stdout",
          "text": [
            "Epoch 79 of 90\n"
          ]
        },
        {
          "output_type": "stream",
          "name": "stderr",
          "text": [
            "1540it [00:06, 254.59it/s]                          \n",
            "514it [00:01, 491.83it/s]                         \n"
          ]
        },
        {
          "output_type": "stream",
          "name": "stdout",
          "text": [
            "Epoch 80 of 90\n"
          ]
        },
        {
          "output_type": "stream",
          "name": "stderr",
          "text": [
            "1540it [00:05, 287.85it/s]                          \n",
            "514it [00:01, 490.88it/s]                         \n"
          ]
        },
        {
          "output_type": "stream",
          "name": "stdout",
          "text": [
            "Epoch 81 of 90\n"
          ]
        },
        {
          "output_type": "stream",
          "name": "stderr",
          "text": [
            "1540it [00:06, 250.42it/s]                          \n",
            "514it [00:01, 493.37it/s]                         \n"
          ]
        },
        {
          "output_type": "stream",
          "name": "stdout",
          "text": [
            "Epoch 82 of 90\n"
          ]
        },
        {
          "output_type": "stream",
          "name": "stderr",
          "text": [
            "1540it [00:05, 285.19it/s]                          \n",
            "514it [00:01, 504.08it/s]                         \n"
          ]
        },
        {
          "output_type": "stream",
          "name": "stdout",
          "text": [
            "Epoch 83 of 90\n"
          ]
        },
        {
          "output_type": "stream",
          "name": "stderr",
          "text": [
            "1540it [00:06, 250.28it/s]                          \n",
            "514it [00:01, 500.00it/s]                         \n"
          ]
        },
        {
          "output_type": "stream",
          "name": "stdout",
          "text": [
            "Epoch 84 of 90\n"
          ]
        },
        {
          "output_type": "stream",
          "name": "stderr",
          "text": [
            "1540it [00:05, 285.76it/s]                          \n",
            "514it [00:01, 498.97it/s]                         \n"
          ]
        },
        {
          "output_type": "stream",
          "name": "stdout",
          "text": [
            "Epoch 85 of 90\n"
          ]
        },
        {
          "output_type": "stream",
          "name": "stderr",
          "text": [
            "1540it [00:06, 253.18it/s]                          \n",
            "514it [00:01, 497.64it/s]                         \n"
          ]
        },
        {
          "output_type": "stream",
          "name": "stdout",
          "text": [
            "Epoch 86 of 90\n"
          ]
        },
        {
          "output_type": "stream",
          "name": "stderr",
          "text": [
            "1540it [00:05, 285.20it/s]                          \n",
            "514it [00:01, 503.50it/s]                         \n"
          ]
        },
        {
          "output_type": "stream",
          "name": "stdout",
          "text": [
            "Epoch 87 of 90\n"
          ]
        },
        {
          "output_type": "stream",
          "name": "stderr",
          "text": [
            "1540it [00:06, 253.25it/s]                          \n",
            "514it [00:01, 496.75it/s]\n"
          ]
        },
        {
          "output_type": "stream",
          "name": "stdout",
          "text": [
            "Epoch 88 of 90\n"
          ]
        },
        {
          "output_type": "stream",
          "name": "stderr",
          "text": [
            "1540it [00:05, 290.30it/s]                          \n",
            "514it [00:01, 502.40it/s]                         \n"
          ]
        },
        {
          "output_type": "stream",
          "name": "stdout",
          "text": [
            "Epoch 89 of 90\n"
          ]
        },
        {
          "output_type": "stream",
          "name": "stderr",
          "text": [
            "1540it [00:06, 249.04it/s]                          \n",
            "514it [00:01, 501.52it/s]                         \n"
          ]
        },
        {
          "output_type": "stream",
          "name": "stdout",
          "text": [
            "Epoch 90 of 90\n"
          ]
        },
        {
          "output_type": "stream",
          "name": "stderr",
          "text": [
            "1540it [00:05, 290.52it/s]                          \n",
            "514it [00:01, 512.19it/s]                         "
          ]
        },
        {
          "output_type": "stream",
          "name": "stdout",
          "text": [
            "timing: 10.324 mins\n"
          ]
        },
        {
          "output_type": "stream",
          "name": "stderr",
          "text": [
            "\n"
          ]
        }
      ]
    },
    {
      "cell_type": "code",
      "source": [
        "plt.figure(figsize=(10, 7))\n",
        "plt.plot(Loss_recon, color='blue', label='Train Loss')\n",
        "plt.plot(Loss_valid, color='green', label='Validation Loss')\n",
        "plt.xlabel('Epochs')\n",
        "plt.ylabel('Loss')\n",
        "plt.legend()\n",
        "#plt.savefig('/content/drive/My Drive/loss.png')\n",
        "plt.show()"
      ],
      "metadata": {
        "colab": {
          "base_uri": "https://localhost:8080/",
          "height": 456
        },
        "id": "4J9cR1XO3Dzn",
        "outputId": "8576ea79-1eaa-4342-8159-feb7d7e2c293"
      },
      "execution_count": 23,
      "outputs": [
        {
          "output_type": "display_data",
          "data": {
            "text/plain": [
              "<Figure size 720x504 with 1 Axes>"
            ],
            "image/png": "[encoded data removed]"
          },
          "metadata": {}
        }
      ]
    },
    {
      "cell_type": "code",
      "source": [
        "torch.save(model.state_dict(), '/content/drive/My Drive/GaussModel.pth')"
      ],
      "metadata": {
        "id": "ssqTGVyeytyx"
      },
      "execution_count": 24,
      "outputs": []
    },
    {
      "cell_type": "code",
      "source": [
        "import torch\n",
        "device = torch.device('cuda') if torch.cuda.is_available() else torch.device('cpu')\n",
        "#model = model()\n",
        "#model.load_state_dict(torch.load('/content/drive/My Drive/GaussModel.pth', map_location=device))"
      ],
      "metadata": {
        "colab": {
          "base_uri": "https://localhost:8080/"
        },
        "id": "s_00RTBaBV7O",
        "outputId": "2f56bcee-304a-4abd-8713-58582c990a3f"
      },
      "execution_count": null,
      "outputs": [
        {
          "output_type": "execute_result",
          "data": {
            "text/plain": [
              "<All keys matched successfully>"
            ]
          },
          "metadata": {},
          "execution_count": 11
        }
      ]
    },
    {
      "cell_type": "code",
      "metadata": {
        "id": "cXJUIVvLcigS"
      },
      "source": [
        "import torch\n",
        "import cv2\n",
        "\n",
        "import numpy as np\n",
        "import glob as glob\n",
        "import os\n",
        "from torchvision.utils import save_image"
      ],
      "execution_count": 25,
      "outputs": []
    },
    {
      "cell_type": "code",
      "metadata": {
        "id": "n2V2idlic24P"
      },
      "source": [
        "device = 'cuda' if torch.cuda.is_available() else 'cpu'"
      ],
      "execution_count": null,
      "outputs": []
    },
    {
      "cell_type": "code",
      "metadata": {
        "colab": {
          "base_uri": "https://localhost:8080/"
        },
        "id": "zNEamMJHyvrf",
        "outputId": "e5e35ad1-bf5b-46b8-c5c3-01dad2378910"
      },
      "source": [
        "#from google.colab import drive\n",
        "#drive.mount('/content/drive')\n",
        "i#mport sys\n",
        "#sys.path.insert(0,'/content/drive/My Drive/model.pth/')"
      ],
      "execution_count": null,
      "outputs": [
        {
          "output_type": "stream",
          "name": "stdout",
          "text": [
            "Drive already mounted at /content/drive; to attempt to forcibly remount, call drive.mount(\"/content/drive\", force_remount=True).\n"
          ]
        }
      ]
    },
    {
      "cell_type": "code",
      "metadata": {
        "id": "mGTRBfnXdDsz",
        "colab": {
          "base_uri": "https://localhost:8080/"
        },
        "outputId": "75740a9a-1fa0-4dcc-ff4c-f695f51f7b2b"
      },
      "source": [
        "model = model.to(device)\n",
        "model\n",
        "#model=model.cpu()\n",
        "#model.load_state_dict(torch.load('/content/drive/My Drive/model.pth'))"
      ],
      "execution_count": 26,
      "outputs": [
        {
          "output_type": "execute_result",
          "data": {
            "text/plain": [
              "Anet(\n",
              "  (conv1): Conv2d(1, 1, kernel_size=(33, 1), stride=(1, 1), padding=(16, 0), bias=False, padding_mode=replicate)\n",
              "  (conv2): Conv2d(1, 1, kernel_size=(1, 33), stride=(1, 1), padding=(0, 16), bias=False, padding_mode=replicate)\n",
              ")"
            ]
          },
          "metadata": {},
          "execution_count": 26
        }
      ]
    },
    {
      "cell_type": "code",
      "metadata": {
        "id": "3BD4Bhy_dfCe"
      },
      "source": [
        "from google.colab.patches import cv2_imshow"
      ],
      "execution_count": 27,
      "outputs": []
    },
    {
      "cell_type": "code",
      "source": [
        "\n",
        "img_dirs = glob.glob('/content/drive/My Drive/test_chelsea/test_chelsea*')\n",
        "\n",
        "for img_dir in img_dirs:\n",
        "    img = cv2.imread(img_dir, cv2.IMREAD_COLOR)\n",
        "    test_image_name = img_dir.split(os.path.sep)[-1].split('.')[0]\n",
        "    img = cv2.cvtColor(img, cv2.COLOR_BGR2GRAY)\n",
        "    img = img.reshape(img.shape[0], img.shape[1], 1)\n",
        "    cv2.imwrite(f\"/content/drive/My Drive/catcake.png\", img)\n",
        "    img = img \n",
        "    cv2_imshow(img)\n",
        "    cv2.waitKey(0)\n",
        "    model.eval()\n",
        "    with torch.no_grad():\n",
        "        img = np.transpose(img, (2, 0, 1)).astype(np.float32)\n",
        "        img = torch.tensor(img, dtype=torch.float).to(device)\n",
        "        img = img.unsqueeze(0)\n",
        "        x2,_, _,_= model(img)\n",
        "        recon = x2.cpu()\n",
        "    save_image(recon, f\"/content/drive/My Drive/MYcatcake.png\")\n",
        "    recon = recon.detach().numpy()\n",
        "    recon = recon.reshape(recon.shape[2], recon.shape[3], recon.shape[1])\n",
        "    print(recon.shape)\n",
        "    cv2_imshow(recon)\n",
        "    cv2.waitKey(0)"
      ],
      "metadata": {
        "colab": {
          "base_uri": "https://localhost:8080/",
          "height": 635
        },
        "id": "vm4hWSXIHti5",
        "outputId": "6af95320-5310-4009-df31-32fa9f5cd1ba"
      },
      "execution_count": 28,
      "outputs": [
        {
          "output_type": "display_data",
          "data": {
            "text/plain": [
              "<PIL.Image.Image image mode=RGB size=451x300 at 0x7FD6C04D4E80>"
            ],
            "image/png": "[encoded data removed]"
          },
          "metadata": {}
        },
        {
          "output_type": "stream",
          "name": "stdout",
          "text": [
            "(300, 451, 1)\n"
          ]
        },
        {
          "output_type": "display_data",
          "data": {
            "text/plain": [
              "<PIL.Image.Image image mode=RGB size=451x300 at 0x7FD67AF65880>"
            ],
            "image/png": "[encoded data removed]"
          },
          "metadata": {}
        }
      ]
    },
    {
      "cell_type": "code",
      "source": [
        "model.eval()\n",
        "model.cpu\n",
        "img.cpu\n",
        "x2,_,U,V = model(img)\n",
        "\n",
        "U=U.squeeze(1)\n",
        "V=V.squeeze(0)\n",
        "U.shape\n",
        "U=U.cpu()\n",
        "V=V.cpu()"
      ],
      "metadata": {
        "id": "hOXEGVYyAQTC"
      },
      "execution_count": 29,
      "outputs": []
    },
    {
      "cell_type": "code",
      "source": [
        "plt.imshow(U[0].detach().numpy())"
      ],
      "metadata": {
        "colab": {
          "base_uri": "https://localhost:8080/",
          "height": 284
        },
        "id": "pdSm93xCH0Mx",
        "outputId": "cf0cd1f5-e445-48da-8ded-273cd4799e58"
      },
      "execution_count": 30,
      "outputs": [
        {
          "output_type": "execute_result",
          "data": {
            "text/plain": [
              "<matplotlib.image.AxesImage at 0x7fd67af87940>"
            ]
          },
          "metadata": {},
          "execution_count": 30
        },
        {
          "output_type": "display_data",
          "data": {
            "text/plain": [
              "<Figure size 432x288 with 1 Axes>"
            ],
            "image/png": "[encoded data removed]"
          },
          "metadata": {}
        }
      ]
    },
    {
      "cell_type": "code",
      "source": [
        "plt.imshow(V[0].detach().numpy())"
      ],
      "metadata": {
        "colab": {
          "base_uri": "https://localhost:8080/",
          "height": 80
        },
        "id": "qAaiYV4Jvs_I",
        "outputId": "26b305be-3a1c-4b3b-c21e-ed9d14848976"
      },
      "execution_count": 31,
      "outputs": [
        {
          "output_type": "execute_result",
          "data": {
            "text/plain": [
              "<matplotlib.image.AxesImage at 0x7fd6796f6a00>"
            ]
          },
          "metadata": {},
          "execution_count": 31
        },
        {
          "output_type": "display_data",
          "data": {
            "text/plain": [
              "<Figure size 432x288 with 1 Axes>"
            ],
            "image/png": "[encoded data removed]"
          },
          "metadata": {}
        }
      ]
    },
    {
      "cell_type": "code",
      "source": [
        "U[0]"
      ],
      "metadata": {
        "id": "Vpz5Qr7NJLJf",
        "colab": {
          "base_uri": "https://localhost:8080/"
        },
        "outputId": "9131727d-0f57-42d7-d16a-9f015dbcb332"
      },
      "execution_count": 32,
      "outputs": [
        {
          "output_type": "execute_result",
          "data": {
            "text/plain": [
              "tensor([[-1.2384e-03],\n",
              "        [-5.7589e-04],\n",
              "        [-2.2270e-04],\n",
              "        [-2.6594e-04],\n",
              "        [-3.2202e-04],\n",
              "        [-2.2720e-04],\n",
              "        [-2.0819e-04],\n",
              "        [-1.8932e-04],\n",
              "        [-2.0794e-04],\n",
              "        [-8.1610e-04],\n",
              "        [-3.8387e-03],\n",
              "        [-1.2594e-02],\n",
              "        [-3.3071e-02],\n",
              "        [-7.0141e-02],\n",
              "        [-1.2012e-01],\n",
              "        [-1.6517e-01],\n",
              "        [-1.8706e-01],\n",
              "        [-1.6423e-01],\n",
              "        [-1.2012e-01],\n",
              "        [-7.0565e-02],\n",
              "        [-3.3483e-02],\n",
              "        [-1.2864e-02],\n",
              "        [-3.6727e-03],\n",
              "        [-6.4483e-04],\n",
              "        [-3.9371e-05],\n",
              "        [ 7.7964e-05],\n",
              "        [ 2.0170e-04],\n",
              "        [-5.8677e-06],\n",
              "        [-2.4825e-04],\n",
              "        [-2.9366e-04],\n",
              "        [-2.1904e-04],\n",
              "        [-4.0615e-04],\n",
              "        [-8.8227e-04]])"
            ]
          },
          "metadata": {},
          "execution_count": 32
        }
      ]
    },
    {
      "cell_type": "code",
      "source": [
        "V[0]"
      ],
      "metadata": {
        "id": "X55fkaFJJVjj",
        "colab": {
          "base_uri": "https://localhost:8080/"
        },
        "outputId": "61664b78-381c-49ae-dfe4-e87e4fe04e92"
      },
      "execution_count": 33,
      "outputs": [
        {
          "output_type": "execute_result",
          "data": {
            "text/plain": [
              "tensor([[-8.5779e-04, -1.1277e-04,  2.6759e-05, -3.5721e-05, -7.1448e-05,\n",
              "         -2.4844e-05, -1.6938e-04, -1.8369e-04, -1.1383e-04, -6.7870e-04,\n",
              "         -3.4205e-03, -1.1945e-02, -3.2403e-02, -6.9744e-02, -1.2004e-01,\n",
              "         -1.6515e-01, -1.8778e-01, -1.6479e-01, -1.1976e-01, -6.9661e-02,\n",
              "         -3.2567e-02, -1.2005e-02, -3.2929e-03, -6.3043e-04, -2.1126e-04,\n",
              "         -1.1017e-04,  8.6423e-05, -8.2229e-06, -1.3227e-04, -4.1627e-05,\n",
              "         -4.8888e-05, -2.6859e-04, -9.2382e-04]])"
            ]
          },
          "metadata": {},
          "execution_count": 33
        }
      ]
    },
    {
      "cell_type": "code",
      "source": [
        "range = np.linspace(-int(33/2),int(33/2),33)\n",
        "plt.plot(range , U[0])"
      ],
      "metadata": {
        "colab": {
          "base_uri": "https://localhost:8080/",
          "height": 283
        },
        "id": "YwNeqTd4v6O0",
        "outputId": "e7674296-cce2-4658-b673-35dccd7b5e5a"
      },
      "execution_count": 34,
      "outputs": [
        {
          "output_type": "execute_result",
          "data": {
            "text/plain": [
              "[<matplotlib.lines.Line2D at 0x7fd67aff4d00>]"
            ]
          },
          "metadata": {},
          "execution_count": 34
        },
        {
          "output_type": "display_data",
          "data": {
            "text/plain": [
              "<Figure size 432x288 with 1 Axes>"
            ],
            "image/png": "[encoded data removed]"
          },
          "metadata": {}
        }
      ]
    },
    {
      "cell_type": "code",
      "source": [
        "rangeV = np.linspace(-int(33/2),int(33/2),33)\n",
        "plt.plot(rangeV , V[0].T)"
      ],
      "metadata": {
        "colab": {
          "base_uri": "https://localhost:8080/",
          "height": 283
        },
        "id": "Ls2oW1lLAuj4",
        "outputId": "961560b6-110e-4ff4-a447-ba88de70045e"
      },
      "execution_count": 35,
      "outputs": [
        {
          "output_type": "execute_result",
          "data": {
            "text/plain": [
              "[<matplotlib.lines.Line2D at 0x7fd67963aa00>]"
            ]
          },
          "metadata": {},
          "execution_count": 35
        },
        {
          "output_type": "display_data",
          "data": {
            "text/plain": [
              "<Figure size 432x288 with 1 Axes>"
            ],
            "image/png": "[encoded data removed]"
          },
          "metadata": {}
        }
      ]
    },
    {
      "cell_type": "code",
      "source": [
        "UV = np.outer(U[0], V[0])\n",
        "UV.shape"
      ],
      "metadata": {
        "id": "n_9hkhWaA3Yn",
        "colab": {
          "base_uri": "https://localhost:8080/"
        },
        "outputId": "5bc5edc0-8298-4ed1-9b10-210065347c42"
      },
      "execution_count": 36,
      "outputs": [
        {
          "output_type": "execute_result",
          "data": {
            "text/plain": [
              "(33, 33)"
            ]
          },
          "metadata": {},
          "execution_count": 36
        }
      ]
    },
    {
      "cell_type": "code",
      "source": [
        "UV"
      ],
      "metadata": {
        "colab": {
          "base_uri": "https://localhost:8080/"
        },
        "id": "Y5CfRD2xJrS1",
        "outputId": "7c74c9ed-2445-4fd3-e11e-ee93f4c72269"
      },
      "execution_count": 37,
      "outputs": [
        {
          "output_type": "execute_result",
          "data": {
            "text/plain": [
              "array([[ 1.0622772e-06,  1.3965892e-07, -3.3137766e-08, ...,\n",
              "         6.0542796e-08,  3.3261733e-07,  1.1440520e-06],\n",
              "       [ 4.9399347e-07,  6.4945951e-08, -1.5410141e-08, ...,\n",
              "         2.8154370e-08,  1.5467788e-07,  5.3202143e-07],\n",
              "       [ 1.9102941e-07,  2.5114879e-08, -5.9591678e-09, ...,\n",
              "         1.0887416e-08,  5.9814610e-08,  2.0573499e-07],\n",
              "       ...,\n",
              "       [ 1.8788651e-07,  2.4701677e-08, -5.8611249e-09, ...,\n",
              "         1.0708292e-08,  5.8830508e-08,  2.0235014e-07],\n",
              "       [ 3.4839090e-07,  4.5803390e-08, -1.0868064e-08, ...,\n",
              "         1.9855984e-08,  1.0908720e-07,  3.7521025e-07],\n",
              "       [ 7.5679924e-07,  9.9497349e-08, -2.3608372e-08, ...,\n",
              "         4.3132562e-08,  2.3696690e-07,  8.1505812e-07]], dtype=float32)"
            ]
          },
          "metadata": {},
          "execution_count": 37
        }
      ]
    },
    {
      "cell_type": "code",
      "source": [
        "plt.imshow(UV)"
      ],
      "metadata": {
        "colab": {
          "base_uri": "https://localhost:8080/",
          "height": 284
        },
        "id": "G_gWjhXNA4bJ",
        "outputId": "a3250a27-626a-4a39-bad7-254e81006408"
      },
      "execution_count": 38,
      "outputs": [
        {
          "output_type": "execute_result",
          "data": {
            "text/plain": [
              "<matplotlib.image.AxesImage at 0x7fd6795c1d90>"
            ]
          },
          "metadata": {},
          "execution_count": 38
        },
        {
          "output_type": "display_data",
          "data": {
            "text/plain": [
              "<Figure size 432x288 with 1 Axes>"
            ],
            "image/png": "[encoded data removed]"
          },
          "metadata": {}
        }
      ]
    },
    {
      "cell_type": "code",
      "source": [
        "plt.plot(UV)"
      ],
      "metadata": {
        "colab": {
          "base_uri": "https://localhost:8080/",
          "height": 855
        },
        "id": "78Q_uadOA8B-",
        "outputId": "680b585b-3703-4b49-815d-9d5e73d85d7f"
      },
      "execution_count": 39,
      "outputs": [
        {
          "output_type": "execute_result",
          "data": {
            "text/plain": [
              "[<matplotlib.lines.Line2D at 0x7fd679534550>,\n",
              " <matplotlib.lines.Line2D at 0x7fd6795345b0>,\n",
              " <matplotlib.lines.Line2D at 0x7fd679527430>,\n",
              " <matplotlib.lines.Line2D at 0x7fd679527460>,\n",
              " <matplotlib.lines.Line2D at 0x7fd6795347f0>,\n",
              " <matplotlib.lines.Line2D at 0x7fd679534910>,\n",
              " <matplotlib.lines.Line2D at 0x7fd679534a30>,\n",
              " <matplotlib.lines.Line2D at 0x7fd679534b50>,\n",
              " <matplotlib.lines.Line2D at 0x7fd679534580>,\n",
              " <matplotlib.lines.Line2D at 0x7fd679534d60>,\n",
              " <matplotlib.lines.Line2D at 0x7fd679534e80>,\n",
              " <matplotlib.lines.Line2D at 0x7fd679534fa0>,\n",
              " <matplotlib.lines.Line2D at 0x7fd67953d100>,\n",
              " <matplotlib.lines.Line2D at 0x7fd67953d220>,\n",
              " <matplotlib.lines.Line2D at 0x7fd67953d340>,\n",
              " <matplotlib.lines.Line2D at 0x7fd67953d460>,\n",
              " <matplotlib.lines.Line2D at 0x7fd67953d580>,\n",
              " <matplotlib.lines.Line2D at 0x7fd67953d6a0>,\n",
              " <matplotlib.lines.Line2D at 0x7fd67953d7c0>,\n",
              " <matplotlib.lines.Line2D at 0x7fd67953d8e0>,\n",
              " <matplotlib.lines.Line2D at 0x7fd67953da00>,\n",
              " <matplotlib.lines.Line2D at 0x7fd67953db20>,\n",
              " <matplotlib.lines.Line2D at 0x7fd67953dc40>,\n",
              " <matplotlib.lines.Line2D at 0x7fd67953dd60>,\n",
              " <matplotlib.lines.Line2D at 0x7fd67953de80>,\n",
              " <matplotlib.lines.Line2D at 0x7fd67953dfa0>,\n",
              " <matplotlib.lines.Line2D at 0x7fd679542100>,\n",
              " <matplotlib.lines.Line2D at 0x7fd679542220>,\n",
              " <matplotlib.lines.Line2D at 0x7fd679542340>,\n",
              " <matplotlib.lines.Line2D at 0x7fd679542460>,\n",
              " <matplotlib.lines.Line2D at 0x7fd679542580>,\n",
              " <matplotlib.lines.Line2D at 0x7fd6795426a0>,\n",
              " <matplotlib.lines.Line2D at 0x7fd6795427c0>]"
            ]
          },
          "metadata": {},
          "execution_count": 39
        },
        {
          "output_type": "display_data",
          "data": {
            "text/plain": [
              "<Figure size 432x288 with 1 Axes>"
            ],
            "image/png": "[encoded data removed]"
          },
          "metadata": {}
        }
      ]
    }
  ]
}